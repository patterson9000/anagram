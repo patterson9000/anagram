{
 "cells": [
  {
   "cell_type": "code",
   "execution_count": 10,
   "id": "77bb8503",
   "metadata": {},
   "outputs": [],
   "source": [
    "# into implementation of a stack:\n",
    "#this implementation uses \"built-in\" data structures and method to achieve its goal.\n",
    "\n",
    "\n",
    "class Stack:\n",
    "    def __init__(self):\n",
    "        self.items = []\n",
    "    \n",
    "    # these are essentail:\n",
    "    def pop(self):\n",
    "            return self.items.pop()\n",
    "    \n",
    "    def push(self, item):\n",
    "        self.items.append(item)\n",
    "    \n",
    "    # these are nice to have:\n",
    "    def is_empty(self):\n",
    "        return self.items == [] \n",
    "    \n",
    "    def peek(self):\n",
    "        return self.items[len(self.item)-1]\n",
    "           \n",
    "        \n",
    "    def size(self):\n",
    "        return len(self.item)\n",
    "        "
   ]
  },
  {
   "cell_type": "markdown",
   "id": "e027a2ca",
   "metadata": {},
   "source": [
    "# problem 2\n",
    "### invert a string using our stack class.\n",
    "\n",
    "using the stack class above, create a function called \"reverse_str\" that takes a string as a perameter and returns\n",
    "\n",
    "```\n",
    "Examples:\n",
    "reverse_str(Rrafael\") == \"leafaR\"\n",
    "reverse_str(\"cars\") == \"srac\"\n",
    "reverse_str(\"house\") == \"esuoh\"\n",
    "```"
   ]
  },
  {
   "cell_type": "code",
   "execution_count": 13,
   "id": "f05ea4f2",
   "metadata": {},
   "outputs": [
    {
     "ename": "NameError",
     "evalue": "name 'stack' is not defined",
     "output_type": "error",
     "traceback": [
      "\u001b[0;31m---------------------------------------------------------------------------\u001b[0m",
      "\u001b[0;31mNameError\u001b[0m                                 Traceback (most recent call last)",
      "Cell \u001b[0;32mIn [13], line 7\u001b[0m\n\u001b[1;32m      4\u001b[0m         stack\u001b[38;5;241m.\u001b[39mpush(letter)\n\u001b[1;32m      6\u001b[0m out_str \u001b[38;5;241m=\u001b[39m \u001b[38;5;124m\"\u001b[39m\u001b[38;5;124m\"\u001b[39m\n\u001b[0;32m----> 7\u001b[0m \u001b[38;5;28;01mwhile\u001b[39;00m \u001b[38;5;129;01mnot\u001b[39;00m stack\u001b[38;5;241m.\u001b[39mis_empty():\n\u001b[1;32m      8\u001b[0m     out_str \u001b[38;5;241m=\u001b[39m\u001b[38;5;241m+\u001b[39m stack\u001b[38;5;241m.\u001b[39mpop()\n\u001b[1;32m     10\u001b[0m \u001b[38;5;28;01mreturn\u001b[39;00m out_str\n",
      "\u001b[0;31mNameError\u001b[0m: name 'stack' is not defined"
     ]
    }
   ],
   "source": [
    "\n",
    "    def reverse_str(string):\n",
    "        stack = Stack()\n",
    "        for letter in string:\n",
    "            stack.push(letter)\n",
    "       \n",
    "    out_str = \"\"\n",
    "    while not stack.is_empty():\n",
    "        out_str =+ stack.pop()\n",
    "        \n",
    "    return out_str\n",
    "    \n"
   ]
  },
  {
   "cell_type": "code",
   "execution_count": null,
   "id": "d3b3a3bf",
   "metadata": {},
   "outputs": [],
   "source": [
    "# into implementation of a stack:\n",
    "# this implementation uses \"built-in\" data structures and method to achieve its goal.\n",
    "\n",
    "\n",
    "class Queue:\n",
    "    def __init(self):\n",
    "        self.items = []\n",
    "        \n",
    "    def enqueue(self, item):\n",
    "        self.item.insert(0, item)\n",
    "        \n",
    "    def dequeue(self):\n",
    "        return self.items.pop()\n",
    "    \n",
    "    def is_empty(self):\n",
    "        return self.items == []\n",
    "    \n",
    "    def size(self):\n",
    "        return len(self.items)"
   ]
  }
 ],
 "metadata": {
  "kernelspec": {
   "display_name": "Python 3 (ipykernel)",
   "language": "python",
   "name": "python3"
  },
  "language_info": {
   "codemirror_mode": {
    "name": "ipython",
    "version": 3
   },
   "file_extension": ".py",
   "mimetype": "text/x-python",
   "name": "python",
   "nbconvert_exporter": "python",
   "pygments_lexer": "ipython3",
   "version": "3.10.4"
  }
 },
 "nbformat": 4,
 "nbformat_minor": 5
}
