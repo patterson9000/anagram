{
 "cells": [
  {
   "cell_type": "code",
   "execution_count": 10,
   "id": "9a0ff5e5",
   "metadata": {},
   "outputs": [],
   "source": [
    "# into implementation of a stack:\n",
    "#this implementation uses \"built-in\" data structures and method to achieve its goal.\n",
    "\n",
    "\n",
    "class Stack:\n",
    "    def __init__(self):\n",
    "        self.items = []\n",
    "    \n",
    "    # these are essentail:\n",
    "    def pop(self):\n",
    "            return self.items.pop()\n",
    "    \n",
    "    def push(self, item):\n",
    "        self.items.append(item)\n",
    "    \n",
    "    # these are nice to have:\n",
    "    def is_empty(self):\n",
    "        return self.items == [] \n",
    "    \n",
    "    def peek(self):\n",
    "        return self.items[len(self.item)-1]\n",
    "           \n",
    "        \n",
    "    def size(self):\n",
    "        return len(self.item)\n",
    "        "
   ]
  },
  {
   "cell_type": "markdown",
   "id": "dff55cc3",
   "metadata": {},
   "source": [
    "# problem 2\n",
    "### invert a string using our stack class.\n",
    "\n",
    "using the stack class above, create a function called \"reverse_str\" that takes a string as a perameter and returns\n",
    "\n",
    "```\n",
    "Examples:\n",
    "reverse_str(Rrafael\") == \"leafaR\"\n",
    "reverse_str(\"cars\") == \"srac\"\n",
    "reverse_str(\"house\") == \"esuoh\"\n",
    "```"
   ]
  },
  {
   "cell_type": "code",
   "execution_count": 13,
   "id": "6562a351",
   "metadata": {},
   "outputs": [
    {
     "ename": "NameError",
     "evalue": "name 'stack' is not defined",
     "output_type": "error",
     "traceback": [
      "\u001b[0;31m---------------------------------------------------------------------------\u001b[0m",
      "\u001b[0;31mNameError\u001b[0m                                 Traceback (most recent call last)",
      "Cell \u001b[0;32mIn [13], line 7\u001b[0m\n\u001b[1;32m      4\u001b[0m         stack\u001b[38;5;241m.\u001b[39mpush(letter)\n\u001b[1;32m      6\u001b[0m out_str \u001b[38;5;241m=\u001b[39m \u001b[38;5;124m\"\u001b[39m\u001b[38;5;124m\"\u001b[39m\n\u001b[0;32m----> 7\u001b[0m \u001b[38;5;28;01mwhile\u001b[39;00m \u001b[38;5;129;01mnot\u001b[39;00m stack\u001b[38;5;241m.\u001b[39mis_empty():\n\u001b[1;32m      8\u001b[0m     out_str \u001b[38;5;241m=\u001b[39m\u001b[38;5;241m+\u001b[39m stack\u001b[38;5;241m.\u001b[39mpop()\n\u001b[1;32m     10\u001b[0m \u001b[38;5;28;01mreturn\u001b[39;00m out_str\n",
      "\u001b[0;31mNameError\u001b[0m: name 'stack' is not defined"
     ]
    }
   ],
   "source": [
    "\n",
    "    def reverse_str(string):\n",
    "        stack = Stack()\n",
    "        for letter in string:\n",
    "            stack.push(letter)\n",
    "       \n",
    "    out_str = \"\"\n",
    "    while not stack.is_empty():\n",
    "        out_str =+ stack.pop()\n",
    "        \n",
    "    return out_str\n",
    "    \n"
   ]
  },
  {
   "cell_type": "code",
   "execution_count": 14,
   "id": "fbaee8f5",
   "metadata": {},
   "outputs": [],
   "source": [
    "# into implementation of a stack:\n",
    "# this implementation uses \"built-in\" data structures and method to achieve its goal.\n",
    "\n",
    "\n",
    "class Queue:\n",
    "    def __init(self):\n",
    "        self.items = []\n",
    "    # these are essentail:   \n",
    "    def enqueue(self, item):\n",
    "        self.item.insert(0, item)\n",
    "        \n",
    "    def dequeue(self):\n",
    "        return self.items.pop()\n",
    "    \n",
    "    # these are nice to have:\n",
    "    def is_empty(self):\n",
    "        return self.items == []\n",
    "    \n",
    "    def size(self):\n",
    "        return len(self.items)"
   ]
  },
  {
   "cell_type": "code",
   "execution_count": 15,
   "id": "d0fdb6bd",
   "metadata": {},
   "outputs": [],
   "source": [
    "# implementation of a stack class from scratch\n",
    "\n",
    "class Node:\n",
    "    def __init__(self,data):\n",
    "        self.data = data\n",
    "        self.above = None"
   ]
  },
  {
   "cell_type": "code",
   "execution_count": 17,
   "id": "7a784779",
   "metadata": {},
   "outputs": [
    {
     "name": "stdout",
     "output_type": "stream",
     "text": [
      "1\n",
      "2\n",
      "3\n"
     ]
    }
   ],
   "source": [
    "x = [1,2,3]\n",
    "\n",
    "base = Node(x[0])\n",
    "new_node = Node(x[1])\n",
    "base.above = new_node\n",
    "new_node_one = Node(x[2])\n",
    "new_node.above = new_node_one\n",
    "\n",
    "current = base\n",
    "while current:\n",
    "    print(current.data)\n",
    "    current = current.above"
   ]
  },
  {
   "cell_type": "code",
   "execution_count": 21,
   "id": "26a5167c",
   "metadata": {},
   "outputs": [],
   "source": [
    "class Stack:\n",
    "    def __init__(self):\n",
    "        self.base = None\n",
    "        \n",
    "    def push(self,item):\n",
    "        if not self.base:\n",
    "            self.base = Node(item)\n",
    "        else:\n",
    "            current = self.base\n",
    "            while current.above:\n",
    "                 current= current.above\n",
    "            current.above = Node(item)\n",
    "            \n",
    "    def pop(self):\n",
    "        if self.base:\n",
    "            prev = None\n",
    "            current = self.base\n",
    "            while current.above:\n",
    "                prev = current\n",
    "                current = current.above\n",
    "            if not prev:\n",
    "                self.base = None\n",
    "            prev.above = None\n",
    "            return current.data\n",
    "        raise IndexError(\"pop from empty stack\")\n",
    "     \n",
    "    def peek(self):\n",
    "        current = self.base\n",
    "        while current:\n",
    "            current = current.above\n",
    "        if not current:\n",
    "            raise IndexError(\"empty stack\")\n",
    "        return current.data\n",
    "        \n",
    "    \n",
    "    def size(self):\n",
    "        counter = 0\n",
    "        current = self.base\n",
    "        while current:\n",
    "            counter += 1\n",
    "            current = current.above\n",
    "        return counter\n",
    "    "
   ]
  },
  {
   "cell_type": "code",
   "execution_count": 25,
   "id": "f9c0be7c",
   "metadata": {},
   "outputs": [
    {
     "ename": "IndentationError",
     "evalue": "unindent does not match any outer indentation level (<tokenize>, line 6)",
     "output_type": "error",
     "traceback": [
      "\u001b[0;36m  File \u001b[0;32m<tokenize>:6\u001b[0;36m\u001b[0m\n\u001b[0;31m    out_str = \"\"\u001b[0m\n\u001b[0m    ^\u001b[0m\n\u001b[0;31mIndentationError\u001b[0m\u001b[0;31m:\u001b[0m unindent does not match any outer indentation level\n"
     ]
    }
   ],
   "source": [
    "def reverse_str(string):\n",
    "        stack = Stack()\n",
    "        for letter in string:\n",
    "            stack.push(letter)\n",
    "       \n",
    "    out_str = \"\"\n",
    "    while not stack.is_empty():\n",
    "        out_str =+ stack.pop()\n",
    "        \n",
    "    return out_str"
   ]
  },
  {
   "cell_type": "code",
   "execution_count": null,
   "id": "4d4047d9",
   "metadata": {},
   "outputs": [],
   "source": []
  }
 ],
 "metadata": {
  "kernelspec": {
   "display_name": "Python 3 (ipykernel)",
   "language": "python",
   "name": "python3"
  },
  "language_info": {
   "codemirror_mode": {
    "name": "ipython",
    "version": 3
   },
   "file_extension": ".py",
   "mimetype": "text/x-python",
   "name": "python",
   "nbconvert_exporter": "python",
   "pygments_lexer": "ipython3",
   "version": "3.10.4"
  }
 },
 "nbformat": 4,
 "nbformat_minor": 5
}
