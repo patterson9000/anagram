{
 "cells": [
  {
   "cell_type": "code",
   "execution_count": 4,
   "id": "42199d5b",
   "metadata": {},
   "outputs": [
    {
     "name": "stdout",
     "output_type": "stream",
     "text": [
      "H\n",
      "e\n",
      "l\n",
      "l\n",
      "o\n",
      ",\n",
      " \n",
      "w\n",
      "o\n",
      "r\n",
      "l\n",
      "d\n",
      "!\n"
     ]
    }
   ],
   "source": [
    "for letter in \"Hello, world!\":\n",
    "    print(letter)\n"
   ]
  },
  {
   "cell_type": "markdown",
   "id": "426806f4",
   "metadata": {},
   "source": [
    "# Problem\n",
    "\n",
    "## Given two strings as input determin if they are anagrams of each other given the following criteria:\n",
    "\n",
    "two srtings are only anagrams of each other if conditions below are met:\n",
    "1. they must be exactly the same length\n",
    "2. they must use exactly the same characters.\n",
    "\n",
    "```\n",
    "example:\n",
    "cars and scar\n",
    "heart and earth\n",
    "ect\n",
    "```\n"
   ]
  },
  {
   "cell_type": "code",
   "execution_count": 7,
   "id": "bd074aba",
   "metadata": {},
   "outputs": [],
   "source": [
    "# define function anagram_check: parameters -> (string1, string2)\n",
    "#      if the lenght of string1 is not equal to the length of string2:\n",
    "#        return False\n",
    "#      dict_for_s1 = dict()\n",
    "#      dict_for_s2 = dict()\n",
    "#      if the length of string1 is equal to the length of string2:\n",
    "#           for each length of string1 is equal to the length of string1:\n",
    "#                  if the character at position \"index\" of string1 is in dict_for_s1:\n",
    "#                     dict_for_s1(index) = dict_for_s1 (index)+1\n",
    "#                  else:\n",
    "#                        create a new key in dict_for_s1 for the character at position \"index\"\n",
    "#                     if the charicacter at position \"index\" of string2 is in dict_for_s2:\n",
    "#                   else:\n",
    "#                     create a new key in dict_for_s2 for the character at position \"index\"\n",
    "#              return dict_for_s1 == dict_for_s2"
   ]
  },
  {
   "cell_type": "code",
   "execution_count": 8,
   "id": "3d9833ed",
   "metadata": {},
   "outputs": [
    {
     "name": "stdout",
     "output_type": "stream",
     "text": [
      "65\n",
      "97\n"
     ]
    }
   ],
   "source": [
    "# what about the following example:\n",
    "# \"Tom marvollo Riddle\" and \"I am Lord Voldemort\"\n",
    "print(ord(\"A\"))\n",
    "print(ord(\"a\"))"
   ]
  },
  {
   "cell_type": "code",
   "execution_count": 3,
   "id": "c7a66d88",
   "metadata": {},
   "outputs": [
    {
     "name": "stdout",
     "output_type": "stream",
     "text": [
      "['a', 'c', 'r', 's']\n",
      "['a', 'c', 'r', 's']\n"
     ]
    }
   ],
   "source": [
    "\n",
    "   def check_for_anagram(word1, word2):\n",
    "        word1= list(word1)\n",
    "        word1.sort()\n",
    "        word2= list(word2)\n",
    "        word2.sort()\n",
    "        print(word1)\n",
    "        print(word2)\n",
    "        \n",
    "    \n",
    "check_for_anagram(\"cars\", \"scar\")\n"
   ]
  },
  {
   "cell_type": "code",
   "execution_count": 15,
   "id": "6b6ec187",
   "metadata": {},
   "outputs": [
    {
     "name": "stdout",
     "output_type": "stream",
     "text": [
      "True\n"
     ]
    }
   ],
   "source": [
    "\n",
    "   def check_for_anagram(word1, word2):\n",
    "        word1= list(word1)\n",
    "        word1.sort()\n",
    "        word2= list(word2)\n",
    "        word2.sort()\n",
    "       \n",
    "        return (word1 == word2)\n",
    "        \n",
    "    \n",
    "print(check_for_anagram(\"cars\", \"scar\"))\n"
   ]
  },
  {
   "cell_type": "code",
   "execution_count": 12,
   "id": "6d638057",
   "metadata": {},
   "outputs": [
    {
     "name": "stdout",
     "output_type": "stream",
     "text": [
      "['a', 'e', 'h', 'r', 't']\n",
      "['a', 'e', 'h', 'r', 't']\n"
     ]
    }
   ],
   "source": [
    "\n",
    "   def check_for_anagram(word1, word2):\n",
    "        word1= list(word1)\n",
    "        word1.sort()\n",
    "        word2= list(word2)\n",
    "        word2.sort()\n",
    "        print(word1)\n",
    "        print(word2)\n",
    "        \n",
    "    \n",
    "check_for_anagram(\"heart\", \"earth\")\n"
   ]
  },
  {
   "cell_type": "code",
   "execution_count": 14,
   "id": "117add27",
   "metadata": {},
   "outputs": [
    {
     "name": "stdout",
     "output_type": "stream",
     "text": [
      "True\n"
     ]
    }
   ],
   "source": [
    "    def check_for_anagram(word1, word2):\n",
    "        word1= list(word1)\n",
    "        word1.sort()\n",
    "        word2= list(word2)\n",
    "        word2.sort()\n",
    "        \n",
    "        return (word1 == word2)\n",
    "    \n",
    "    \n",
    "print(check_for_anagram(\"heart\", \"earth\"))"
   ]
  },
  {
   "cell_type": "code",
   "execution_count": 2,
   "id": "5b19b28e",
   "metadata": {},
   "outputs": [
    {
     "name": "stdout",
     "output_type": "stream",
     "text": [
      "Enter a word:heart\n",
      "heart\n",
      "earth\n"
     ]
    }
   ],
   "source": [
    "user_input = input(\"Enter a word:\")\n",
    "library= ['cars','scar','heart','earth']\n",
    "\n",
    "for word in library:\n",
    "    if sorted(user_input) == sorted(word):\n",
    "        print(word)"
   ]
  },
  {
   "cell_type": "code",
   "execution_count": 19,
   "id": "107cf4e0",
   "metadata": {},
   "outputs": [
    {
     "name": "stdout",
     "output_type": "stream",
     "text": [
      "['a', 'd', 'd', 'e', 'i', 'l', 'l', 'l', 'm', 'm', 'o', 'o', 'o', 'r', 'r', 't', 'v']\n",
      "['a', 'd', 'd', 'e', 'i', 'l', 'l', 'm', 'm', 'o', 'o', 'o', 'r', 'r', 't', 'v']\n"
     ]
    }
   ],
   "source": [
    "    def check_for_anagram(word1,word2):\n",
    "        word1= list(word1)\n",
    "        word1.sort()\n",
    "        word2=list(word2)\n",
    "        word2.sort()\n",
    "        print(word1)\n",
    "        print(word2)\n",
    "        \n",
    "        \n",
    "\n",
    "check_for_anagram(\"tommarvolloriddle\",\"iamlordvoldemort\")"
   ]
  },
  {
   "cell_type": "code",
   "execution_count": 5,
   "id": "05a7d716",
   "metadata": {},
   "outputs": [
    {
     "name": "stdout",
     "output_type": "stream",
     "text": [
      "False\n"
     ]
    }
   ],
   "source": [
    "  def check_for_anagram(word1,word2):\n",
    "        word1= list(word1)\n",
    "        word1.sort()\n",
    "        word2=list(word2)\n",
    "        word2.sort()\n",
    "       \n",
    "        return (word1 == word2)\n",
    "        \n",
    "        \n",
    "\n",
    "print(check_for_anagram(\"Tom marvollo Riddle\",\"I am Lord Voldemort\"))"
   ]
  },
  {
   "cell_type": "code",
   "execution_count": 7,
   "id": "c5f13838",
   "metadata": {},
   "outputs": [],
   "source": [
    "# define function anagram_check: parameters -> (string1, string2)\n",
    "#      if the lenght of string1 is not equal to the length of string2:\n",
    "#        return False\n",
    "#      dict_for_s1 = dict()\n",
    "#      dict_for_s2 = dict()\n",
    "#      if the length of string1 is equal to the length of string2:\n",
    "#           for each length of string1 is equal to the length of string1:\n",
    "#                  if the character at position \"index\" of string1 is in dict_for_s1:\n",
    "#                     dict_for_s1(index) = dict_for_s1 (index)+1\n",
    "#                  else:\n",
    "#                        create a new key in dict_for_s1 for the character at position \"index\"\n",
    "#                     if the charicacter at position \"index\" of string2 is in dict_for_s2:\n",
    "#                   else:\n",
    "#                     create a new key in dict_for_s2 for the character at position \"index\"\n",
    "#              return dict_for_s1 == dict_for_s2"
   ]
  },
  {
   "cell_type": "code",
   "execution_count": 16,
   "id": "1b59702a",
   "metadata": {},
   "outputs": [
    {
     "data": {
      "text/plain": [
       "True"
      ]
     },
     "execution_count": 16,
     "metadata": {},
     "output_type": "execute_result"
    }
   ],
   "source": [
    "def check_for_anagram(word1,word2):\n",
    "    if (len(word1)!= len(word2)):\n",
    "        return False\n",
    "    dict_for_s1 = dict()\n",
    "    dict_for_s2 = dict()\n",
    "    if (len(word2) == len(word1)):\n",
    "        for i in range(0,len(word1)):\n",
    "            if (word1[i] in dict_for_s1):\n",
    "                dict_for_s1[word1[i]] = dict_for_s1[word1[i]] +1\n",
    "            else: \n",
    "                dict_for_s1[word1[i]] = 0                \n",
    "            if (word2[i] in dict_for_s2):\n",
    "                dict_for_s2[word2[i]] = dict_for_s2[word2[i]] +1                \n",
    "            else: \n",
    "                dict_for_s2[word2[i]] = 0\n",
    "    \n",
    "        return dict_for_s1 == dict_for_s2\n",
    "                \n",
    "check_for_anagram(\"cars\",\"scar\") \n",
    "check_for_anagram(\"earth\",\"heart\")"
   ]
  },
  {
   "cell_type": "code",
   "execution_count": null,
   "id": "123f298e",
   "metadata": {},
   "outputs": [],
   "source": [
    "# what about the following example:\n",
    "# \"Tom marvollo Riddle\" and \"I am Lord Voldemort\""
   ]
  },
  {
   "cell_type": "code",
   "execution_count": 31,
   "id": "5f7eca13",
   "metadata": {},
   "outputs": [
    {
     "data": {
      "text/plain": [
       "True"
      ]
     },
     "execution_count": 31,
     "metadata": {},
     "output_type": "execute_result"
    }
   ],
   "source": [
    "def check_for_anagram(word1,word2):\n",
    "    new_word1 = word1.lower().replace(\" \",\"\")\n",
    "    new_word2 = word2.lower().replace(\" \",\"\")\n",
    "    if (len(new_word1)!= len(new_word2)):\n",
    "        return False\n",
    "    dict_for_s1 = dict()\n",
    "    dict_for_s2 = dict()\n",
    "    if (len(new_word2) == len(new_word1)):\n",
    "        for i in range(0,len(new_word1)):\n",
    "            if (new_word1[i] in dict_for_s1):\n",
    "                dict_for_s1[new_word1[i]] = dict_for_s1[new_word1[i]] +1\n",
    "            else: \n",
    "                dict_for_s1[new_word1[i]] = 0                \n",
    "            if (new_word2[i] in dict_for_s2):\n",
    "                dict_for_s2[new_word2[i]] = dict_for_s2[new_word2[i]] +1                \n",
    "            else: \n",
    "                dict_for_s2[new_word2[i]] = 0\n",
    "    \n",
    "        return dict_for_s1 == dict_for_s2\n",
    "    \n",
    "    \n",
    "check_for_anagram(\"Tom Marvolo Riddle\",\"I am Lord Voldemort\")   "
   ]
  },
  {
   "cell_type": "code",
   "execution_count": null,
   "id": "6a4a1d7e",
   "metadata": {},
   "outputs": [],
   "source": []
  },
  {
   "cell_type": "code",
   "execution_count": null,
   "id": "aa8f1c5d",
   "metadata": {},
   "outputs": [],
   "source": []
  }
 ],
 "metadata": {
  "kernelspec": {
   "display_name": "Python 3 (ipykernel)",
   "language": "python",
   "name": "python3"
  },
  "language_info": {
   "codemirror_mode": {
    "name": "ipython",
    "version": 3
   },
   "file_extension": ".py",
   "mimetype": "text/x-python",
   "name": "python",
   "nbconvert_exporter": "python",
   "pygments_lexer": "ipython3",
   "version": "3.10.4"
  }
 },
 "nbformat": 4,
 "nbformat_minor": 5
}
